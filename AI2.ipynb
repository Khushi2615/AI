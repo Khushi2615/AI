{
  "nbformat": 4,
  "nbformat_minor": 0,
  "metadata": {
    "colab": {
      "provenance": [],
      "authorship_tag": "ABX9TyM+dEGkDMEHABL3byi6WyGJ",
      "include_colab_link": true
    },
    "kernelspec": {
      "name": "python3",
      "display_name": "Python 3"
    },
    "language_info": {
      "name": "python"
    }
  },
  "cells": [
    {
      "cell_type": "markdown",
      "metadata": {
        "id": "view-in-github",
        "colab_type": "text"
      },
      "source": [
        "<a href=\"https://colab.research.google.com/github/Khushi2615/AI-DL/blob/main/AI2.ipynb\" target=\"_parent\"><img src=\"https://colab.research.google.com/assets/colab-badge.svg\" alt=\"Open In Colab\"/></a>"
      ]
    },
    {
      "cell_type": "code",
      "execution_count": 1,
      "metadata": {
        "colab": {
          "base_uri": "https://localhost:8080/"
        },
        "id": "KVFYwWR-2cLy",
        "outputId": "927b0f45-e4b4-4b04-e12a-c4871f63bd46"
      },
      "outputs": [
        {
          "output_type": "stream",
          "name": "stdout",
          "text": [
            "Solution: {'WA': 'Red', 'NT': 'Green', 'Q': 'Red', 'NSW': 'Green', 'V': 'Red', 'SA': 'Blue', 'T': 'Red'}\n"
          ]
        }
      ],
      "source": [
        "class CSP:\n",
        "    def __init__(self, variables, domains, neighbors, constraints):\n",
        "        \"\"\"\n",
        "        variables: A list of variables to be solved.\n",
        "        domains: A dict where each variable is associated with a list of its domain values.\n",
        "        neighbors: A dict where each variable is associated with a list of neighboring variables.\n",
        "        constraints: A function that takes two variables and their values and returns\n",
        "                     True if the constraint is satisfied, otherwise False.\n",
        "        \"\"\"\n",
        "        self.variables = variables\n",
        "        self.domains = domains\n",
        "        self.neighbors = neighbors\n",
        "        self.constraints = constraints\n",
        "        self.assignment = {}\n",
        "\n",
        "    def is_complete(self, assignment):\n",
        "        \"\"\"Check if the assignment is complete (all variables are assigned).\"\"\"\n",
        "        return len(assignment) == len(self.variables)\n",
        "\n",
        "    def is_consistent(self, var, value, assignment):\n",
        "        \"\"\"Check if the value assignment is consistent with all constraints.\"\"\"\n",
        "        for neighbor in self.neighbors[var]:\n",
        "            if neighbor in assignment and not self.constraints(var, value, neighbor, assignment[neighbor]):\n",
        "                return False\n",
        "        return True\n",
        "\n",
        "    def select_unassigned_variable(self, assignment):\n",
        "        \"\"\"Select a variable that hasn't been assigned yet.\"\"\"\n",
        "        for var in self.variables:\n",
        "            if var not in assignment:\n",
        "                return var\n",
        "        return None\n",
        "\n",
        "    def order_domain_values(self, var, assignment):\n",
        "        \"\"\"Return the list of values for the variable in the domain.\"\"\"\n",
        "        return self.domains[var]\n",
        "\n",
        "    def backtrack(self, assignment):\n",
        "        \"\"\"Solve the CSP using backtracking search.\"\"\"\n",
        "        if self.is_complete(assignment):\n",
        "            return assignment\n",
        "\n",
        "        var = self.select_unassigned_variable(assignment)\n",
        "\n",
        "        for value in self.order_domain_values(var, assignment):\n",
        "            if self.is_consistent(var, value, assignment):\n",
        "                assignment[var] = value\n",
        "\n",
        "                # Recursive call with the new assignment\n",
        "                result = self.backtrack(assignment)\n",
        "                if result:\n",
        "                    return result\n",
        "\n",
        "                # If not successful, backtrack\n",
        "                assignment.pop(var)\n",
        "\n",
        "        return None  # Failure\n",
        "\n",
        "    def solve(self):\n",
        "        \"\"\"Starts the backtracking algorithm.\"\"\"\n",
        "        return self.backtrack({})\n",
        "\n",
        "# Example problem: Map coloring\n",
        "# Variables: Regions of a map\n",
        "variables = ['WA', 'NT', 'Q', 'NSW', 'V', 'SA', 'T']\n",
        "\n",
        "# Domains: Possible colors for each region\n",
        "domains = {\n",
        "    'WA': ['Red', 'Green', 'Blue'],\n",
        "    'NT': ['Red', 'Green', 'Blue'],\n",
        "    'Q': ['Red', 'Green', 'Blue'],\n",
        "    'NSW': ['Red', 'Green', 'Blue'],\n",
        "    'V': ['Red', 'Green', 'Blue'],\n",
        "    'SA': ['Red', 'Green', 'Blue'],\n",
        "    'T': ['Red', 'Green', 'Blue']\n",
        "}\n",
        "\n",
        "# Neighbors: Adjacency relationships between regions\n",
        "neighbors = {\n",
        "    'WA': ['NT', 'SA'],\n",
        "    'NT': ['WA', 'SA', 'Q'],\n",
        "    'Q': ['NT', 'SA', 'NSW'],\n",
        "    'NSW': ['Q', 'SA', 'V'],\n",
        "    'V': ['SA', 'NSW'],\n",
        "    'SA': ['WA', 'NT', 'Q', 'NSW', 'V'],\n",
        "    'T': []\n",
        "}\n",
        "\n",
        "# Constraints: Two neighboring regions must have different colors\n",
        "def constraints(var1, val1, var2, val2):\n",
        "    \"\"\"Return True if var1 and var2 have different colors (constraint is satisfied).\"\"\"\n",
        "    return val1 != val2\n",
        "\n",
        "# Create the CSP instance\n",
        "csp = CSP(variables, domains, neighbors, constraints)\n",
        "\n",
        "# Solve the problem\n",
        "solution = csp.solve()\n",
        "\n",
        "# Output the solution\n",
        "print(\"Solution:\", solution)\n"
      ]
    }
  ]
}