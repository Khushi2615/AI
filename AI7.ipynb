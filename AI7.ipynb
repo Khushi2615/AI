{
  "nbformat": 4,
  "nbformat_minor": 0,
  "metadata": {
    "colab": {
      "provenance": [],
      "authorship_tag": "ABX9TyOCLjfuS1yf723HpW64mjON",
      "include_colab_link": true
    },
    "kernelspec": {
      "name": "python3",
      "display_name": "Python 3"
    },
    "language_info": {
      "name": "python"
    }
  },
  "cells": [
    {
      "cell_type": "markdown",
      "metadata": {
        "id": "view-in-github",
        "colab_type": "text"
      },
      "source": [
        "<a href=\"https://colab.research.google.com/github/Khushi2615/AI-DL/blob/main/AI7.ipynb\" target=\"_parent\"><img src=\"https://colab.research.google.com/assets/colab-badge.svg\" alt=\"Open In Colab\"/></a>"
      ]
    },
    {
      "cell_type": "code",
      "execution_count": 1,
      "metadata": {
        "colab": {
          "base_uri": "https://localhost:8080/"
        },
        "id": "0vdHfocd7icK",
        "outputId": "8b1d47ad-5594-4586-a1b7-ad9f47a84176"
      },
      "outputs": [
        {
          "output_type": "stream",
          "name": "stdout",
          "text": [
            "Inferred: C from rule ['A', 'B'] -> C\n",
            "Inferred: D from rule ['C'] -> D\n",
            "Inferred: E from rule ['D'] -> E\n",
            "\n",
            "Inferred Facts: {'A', 'B', 'E', 'D', 'C'}\n"
          ]
        }
      ],
      "source": [
        "# Forward Chaining Algorithm\n",
        "\n",
        "# Rule class to represent each rule with conditions and conclusion\n",
        "class Rule:\n",
        "    def __init__(self, conditions, conclusion):\n",
        "        self.conditions = conditions  # List of conditions (premises)\n",
        "        self.conclusion = conclusion  # Conclusion (result)\n",
        "\n",
        "# Function to perform forward chaining\n",
        "def forward_chaining(rules, facts):\n",
        "    inferred = set(facts)  # Set of known facts\n",
        "    applied_rules = set()  # Keep track of rules that have been applied\n",
        "\n",
        "    while True:\n",
        "        new_fact_added = False\n",
        "\n",
        "        for rule in rules:\n",
        "            if rule in applied_rules:\n",
        "                continue  # Skip already applied rules\n",
        "\n",
        "            # Check if all conditions of the rule are in the inferred facts\n",
        "            if all(condition in inferred for condition in rule.conditions):\n",
        "                inferred.add(rule.conclusion)  # Add the conclusion to the facts\n",
        "                applied_rules.add(rule)  # Mark the rule as applied\n",
        "                new_fact_added = True\n",
        "                print(f\"Inferred: {rule.conclusion} from rule {rule.conditions} -> {rule.conclusion}\")\n",
        "\n",
        "        # If no new fact was added, stop the process\n",
        "        if not new_fact_added:\n",
        "            break\n",
        "\n",
        "    return inferred\n",
        "\n",
        "# Define the rules (conditions -> conclusion)\n",
        "rules = [\n",
        "    Rule(['A', 'B'], 'C'),\n",
        "    Rule(['C'], 'D'),\n",
        "    Rule(['D'], 'E'),\n",
        "]\n",
        "\n",
        "# Initial set of known facts\n",
        "facts = ['A', 'B']\n",
        "\n",
        "# Perform forward chaining\n",
        "inferred_facts = forward_chaining(rules, facts)\n",
        "\n",
        "# Output the inferred facts\n",
        "print(\"\\nInferred Facts:\", inferred_facts)\n"
      ]
    }
  ]
}