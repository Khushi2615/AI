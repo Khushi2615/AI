{
  "nbformat": 4,
  "nbformat_minor": 0,
  "metadata": {
    "colab": {
      "provenance": [],
      "authorship_tag": "ABX9TyOE8hkBVdTcrxDydqzEv4Ni",
      "include_colab_link": true
    },
    "kernelspec": {
      "name": "python3",
      "display_name": "Python 3"
    },
    "language_info": {
      "name": "python"
    }
  },
  "cells": [
    {
      "cell_type": "markdown",
      "metadata": {
        "id": "view-in-github",
        "colab_type": "text"
      },
      "source": [
        "<a href=\"https://colab.research.google.com/github/Khushi2615/AI-DL/blob/main/Sentiment_analysis_using_LSTM_.ipynb\" target=\"_parent\"><img src=\"https://colab.research.google.com/assets/colab-badge.svg\" alt=\"Open In Colab\"/></a>"
      ]
    },
    {
      "cell_type": "code",
      "execution_count": 2,
      "metadata": {
        "colab": {
          "base_uri": "https://localhost:8080/"
        },
        "id": "DXYTZWxHQ54z",
        "outputId": "7b4924b2-6d94-4dd6-dfc6-ffc4d1f15c4b"
      },
      "outputs": [
        {
          "output_type": "stream",
          "name": "stdout",
          "text": [
            "Epoch 1/5\n",
            "\u001b[1m782/782\u001b[0m \u001b[32m━━━━━━━━━━━━━━━━━━━━\u001b[0m\u001b[37m\u001b[0m \u001b[1m146s\u001b[0m 183ms/step - accuracy: 0.7122 - loss: 0.5447 - val_accuracy: 0.7934 - val_loss: 0.4481\n",
            "Epoch 2/5\n",
            "\u001b[1m782/782\u001b[0m \u001b[32m━━━━━━━━━━━━━━━━━━━━\u001b[0m\u001b[37m\u001b[0m \u001b[1m197s\u001b[0m 177ms/step - accuracy: 0.8484 - loss: 0.3594 - val_accuracy: 0.6909 - val_loss: 0.5656\n",
            "Epoch 3/5\n",
            "\u001b[1m782/782\u001b[0m \u001b[32m━━━━━━━━━━━━━━━━━━━━\u001b[0m\u001b[37m\u001b[0m \u001b[1m146s\u001b[0m 182ms/step - accuracy: 0.8447 - loss: 0.3534 - val_accuracy: 0.8499 - val_loss: 0.3566\n",
            "Epoch 4/5\n",
            "\u001b[1m782/782\u001b[0m \u001b[32m━━━━━━━━━━━━━━━━━━━━\u001b[0m\u001b[37m\u001b[0m \u001b[1m143s\u001b[0m 182ms/step - accuracy: 0.9036 - loss: 0.2421 - val_accuracy: 0.8535 - val_loss: 0.3692\n",
            "Epoch 5/5\n",
            "\u001b[1m782/782\u001b[0m \u001b[32m━━━━━━━━━━━━━━━━━━━━\u001b[0m\u001b[37m\u001b[0m \u001b[1m147s\u001b[0m 188ms/step - accuracy: 0.9190 - loss: 0.2083 - val_accuracy: 0.8549 - val_loss: 0.3804\n",
            "\u001b[1m782/782\u001b[0m \u001b[32m━━━━━━━━━━━━━━━━━━━━\u001b[0m\u001b[37m\u001b[0m \u001b[1m28s\u001b[0m 36ms/step - accuracy: 0.8529 - loss: 0.3826\n",
            "Test score: 0.3803674280643463\n",
            "Test accuracy: 0.8548799753189087\n"
          ]
        }
      ],
      "source": [
        "# Step 1: Import necessary libraries\n",
        "import numpy as np\n",
        "from tensorflow.keras.models import Sequential\n",
        "from tensorflow.keras.layers import Embedding, LSTM, Dense, Dropout\n",
        "from tensorflow.keras.preprocessing.text import Tokenizer\n",
        "from tensorflow.keras.preprocessing.sequence import pad_sequences\n",
        "from tensorflow.keras.datasets import imdb\n",
        "\n",
        "# Step 2: Load and Preprocess the Data\n",
        "max_words = 10000  # Number of words to consider as features\n",
        "maxlen = 200  # Cut texts after this number of words (max length)\n",
        "\n",
        "# Load the data (IMDb movie review dataset)\n",
        "(x_train, y_train), (x_test, y_test) = imdb.load_data(num_words=max_words)\n",
        "\n",
        "# Pad sequences to ensure equal input length\n",
        "x_train = pad_sequences(x_train, maxlen=maxlen)\n",
        "x_test = pad_sequences(x_test, maxlen=maxlen)\n",
        "\n",
        "# Step 3: Build the LSTM Model\n",
        "model = Sequential()\n",
        "model.add(Embedding(max_words, 128, input_length=maxlen))  # Embedding layer\n",
        "model.add(LSTM(64, dropout=0.2, recurrent_dropout=0.2))  # LSTM layer\n",
        "model.add(Dense(1, activation='sigmoid'))  # Output layer (binary classification)\n",
        "\n",
        "# Step 4: Compile the Model\n",
        "model.compile(optimizer='adam', loss='binary_crossentropy', metrics=['accuracy'])\n",
        "\n",
        "# Step 5: Train the Model\n",
        "batch_size = 32\n",
        "epochs = 5\n",
        "\n",
        "history = model.fit(x_train, y_train, batch_size=batch_size, epochs=epochs, validation_data=(x_test, y_test))\n",
        "\n",
        "# Step 6: Evaluate the Model\n",
        "score, acc = model.evaluate(x_test, y_test, batch_size=batch_size)\n",
        "print(f'Test score: {score}')\n",
        "print(f'Test accuracy: {acc}')\n",
        "\n",
        "# Step 7: Predicting on new data (example)\n",
        "def predict_sentiment(review):\n",
        "    # Assuming 'review' is a list of integers (word indices)\n",
        "    review = pad_sequences([review], maxlen=maxlen)\n",
        "    prediction = model.predict(review)\n",
        "    return \"Positive\" if prediction > 0.5 else \"Negative\"\n",
        "\n",
        "# Example usage:\n",
        "# sentiment = predict_sentiment([1, 20, 35, 45, 550])\n"
      ]
    }
  ]
}