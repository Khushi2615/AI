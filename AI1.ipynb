{
  "nbformat": 4,
  "nbformat_minor": 0,
  "metadata": {
    "colab": {
      "provenance": [],
      "authorship_tag": "ABX9TyN+wtN/CDkG5tUHRiWjvUtC",
      "include_colab_link": true
    },
    "kernelspec": {
      "name": "python3",
      "display_name": "Python 3"
    },
    "language_info": {
      "name": "python"
    }
  },
  "cells": [
    {
      "cell_type": "markdown",
      "metadata": {
        "id": "view-in-github",
        "colab_type": "text"
      },
      "source": [
        "<a href=\"https://colab.research.google.com/github/Khushi2615/AI-DL/blob/main/AI1.ipynb\" target=\"_parent\"><img src=\"https://colab.research.google.com/assets/colab-badge.svg\" alt=\"Open In Colab\"/></a>"
      ]
    },
    {
      "cell_type": "code",
      "execution_count": 1,
      "metadata": {
        "id": "wuQD0pq10-Hq"
      },
      "outputs": [],
      "source": [
        "goal_state = (1, 2, 3, 4, 5, 6, 7, 8, 0)\n"
      ]
    },
    {
      "cell_type": "code",
      "source": [
        "from collections import deque\n",
        "\n",
        "# Helper function to check if a state is the goal state\n",
        "def is_goal(state):\n",
        "    return state == (1, 2, 3, 4, 5, 6, 7, 8, 0)\n",
        "\n",
        "# Helper function to get possible moves for a state\n",
        "def get_neighbors(state):\n",
        "    neighbors = []\n",
        "    # Find the position of the empty space (represented by 0)\n",
        "    index_of_zero = state.index(0)\n",
        "    row, col = divmod(index_of_zero, 3)\n",
        "\n",
        "    # Define movement directions: (row_offset, col_offset)\n",
        "    moves = {\n",
        "        'up': (-1, 0),\n",
        "        'down': (1, 0),\n",
        "        'left': (0, -1),\n",
        "        'right': (0, 1)\n",
        "    }\n",
        "\n",
        "    # Try moving the empty space in all directions\n",
        "    for direction, (row_offset, col_offset) in moves.items():\n",
        "        new_row, new_col = row + row_offset, col + col_offset\n",
        "        if 0 <= new_row < 3 and 0 <= new_col < 3:\n",
        "            # Calculate the new index of the empty space after the move\n",
        "            new_index = new_row * 3 + new_col\n",
        "            # Create the new state by swapping the empty space with the adjacent tile\n",
        "            new_state = list(state)\n",
        "            new_state[index_of_zero], new_state[new_index] = new_state[new_index], new_state[index_of_zero]\n",
        "            neighbors.append(tuple(new_state))\n",
        "\n",
        "    return neighbors\n"
      ],
      "metadata": {
        "id": "bWsg3hcb1B-0"
      },
      "execution_count": 2,
      "outputs": []
    },
    {
      "cell_type": "code",
      "source": [
        "def dfs(initial_state):\n",
        "    stack = [(initial_state, [])]  # (current_state, path_to_state)\n",
        "    visited = set()\n",
        "\n",
        "    while stack:\n",
        "        state, path = stack.pop()\n",
        "\n",
        "        if is_goal(state):\n",
        "            return path\n",
        "\n",
        "        visited.add(state)\n",
        "\n",
        "        for neighbor in get_neighbors(state):\n",
        "            if neighbor not in visited:\n",
        "                stack.append((neighbor, path + [neighbor]))\n",
        "\n",
        "    return None  # No solution found\n"
      ],
      "metadata": {
        "id": "oOFLP4DN1N-G"
      },
      "execution_count": 3,
      "outputs": []
    },
    {
      "cell_type": "code",
      "source": [
        "def bfs(initial_state):\n",
        "    queue = deque([(initial_state, [])])  # (current_state, path_to_state)\n",
        "    visited = set()\n",
        "\n",
        "    while queue:\n",
        "        state, path = queue.popleft()\n",
        "\n",
        "        if is_goal(state):\n",
        "            return path\n",
        "\n",
        "        visited.add(state)\n",
        "\n",
        "        for neighbor in get_neighbors(state):\n",
        "            if neighbor not in visited:\n",
        "                visited.add(neighbor)\n",
        "                queue.append((neighbor, path + [neighbor]))\n",
        "\n",
        "    return None  # No solution found\n"
      ],
      "metadata": {
        "id": "yIzTMoju1UMh"
      },
      "execution_count": 4,
      "outputs": []
    },
    {
      "cell_type": "code",
      "source": [
        "initial_state = (1, 2, 3, 4, 5, 6, 7, 0, 8)  # Example initial state\n",
        "\n",
        "# Solve using DFS\n",
        "dfs_solution = dfs(initial_state)\n",
        "print(\"DFS Solution:\", dfs_solution)\n",
        "\n",
        "# Solve using BFS\n",
        "bfs_solution = bfs(initial_state)\n",
        "print(\"BFS Solution:\", bfs_solution)\n"
      ],
      "metadata": {
        "colab": {
          "base_uri": "https://localhost:8080/"
        },
        "id": "JseshScB1atU",
        "outputId": "6d71ef46-4082-4257-dde1-456ba33b7965"
      },
      "execution_count": 5,
      "outputs": [
        {
          "output_type": "stream",
          "name": "stdout",
          "text": [
            "DFS Solution: [(1, 2, 3, 4, 5, 6, 7, 8, 0)]\n",
            "BFS Solution: [(1, 2, 3, 4, 5, 6, 7, 8, 0)]\n"
          ]
        }
      ]
    }
  ]
}